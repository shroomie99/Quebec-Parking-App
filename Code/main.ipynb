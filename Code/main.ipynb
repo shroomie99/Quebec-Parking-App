{
 "cells": [
  {
   "cell_type": "code",
   "execution_count": 1,
   "metadata": {},
   "outputs": [
    {
     "name": "stdout",
     "output_type": "stream",
     "text": [
      "Reduced data has been saved into a CSV\n",
      "Reduced data has been saved into a CSV\n",
      "Reduced data has been saved into a CSV\n",
      "Coordinates updated in CSV, simplified_signalisation_stationnement.csv\n",
      "Sign rules has been updated in csv\n"
     ]
    }
   ],
   "source": [
    "# Given 'gbdouble.json' + 'signalisation_stationnement.geojson' + 'signalisation_stationnement.csv'\n",
    "\n",
    "# Eliminates non-needed fields from datasets\n",
    "%run simplify_gbdouble.json.py\n",
    "%run simplify_signalisation_stationnement.json.py\n",
    "%run simplify_signalisation_stationnement.csv.py\n",
    "\n",
    "# Updates latitude and longitude coordinates\n",
    "%run update_coordinates_in_simplified_signalisation_stationnment.csv.py\n",
    "\n",
    "# Extract sign rules into signalisation_stationnement_RPA_description.csv\n",
    "%run sign_description_RPA_parser.py\n",
    "\n",
    "# Apply PANNOUCEAU signs to the parent sign.\n",
    "#TODO: LATER"
   ]
  },
  {
   "cell_type": "code",
   "execution_count": 3,
   "metadata": {},
   "outputs": [],
   "source": [
    "# Generate a dataset that maps sign id to streetside id # (Runs for 90mins)\n",
    "%run map_sign_streetside.py"
   ]
  },
  {
   "cell_type": "code",
   "execution_count": 3,
   "metadata": {},
   "outputs": [
    {
     "ename": "ModuleNotFoundError",
     "evalue": "No module named 'pandas'",
     "output_type": "error",
     "traceback": [
      "\u001b[1;31m---------------------------------------------------------------------------\u001b[0m",
      "\u001b[1;31mModuleNotFoundError\u001b[0m                       Traceback (most recent call last)",
      "File \u001b[1;32m~\\Desktop\\backup\\Python Projects\\Quebec-Parking-App\\Code\\combine_datasets.py:12\u001b[0m\n\u001b[0;32m      1\u001b[0m \u001b[38;5;66;03m###\u001b[39;00m\n\u001b[0;32m      2\u001b[0m \u001b[38;5;66;03m# combine_datasets.py - Generates an updated CSV that contains the fields below:\u001b[39;00m\n\u001b[0;32m      3\u001b[0m \u001b[38;5;66;03m# X - street-side id\u001b[39;00m\n\u001b[1;32m   (...)\u001b[0m\n\u001b[0;32m      9\u001b[0m \u001b[38;5;66;03m# X - all sign rules\u001b[39;00m\n\u001b[0;32m     10\u001b[0m \u001b[38;5;66;03m###\u001b[39;00m\n\u001b[1;32m---> 12\u001b[0m \u001b[38;5;28;01mimport\u001b[39;00m \u001b[38;5;21;01mpandas\u001b[39;00m \u001b[38;5;28;01mas\u001b[39;00m \u001b[38;5;21;01mpd\u001b[39;00m\n\u001b[0;32m     13\u001b[0m \u001b[38;5;28;01mimport\u001b[39;00m \u001b[38;5;21;01mjson\u001b[39;00m\n\u001b[0;32m     14\u001b[0m \u001b[38;5;28;01mfrom\u001b[39;00m \u001b[38;5;21;01mpathlib\u001b[39;00m \u001b[38;5;28;01mimport\u001b[39;00m Path\n",
      "\u001b[1;31mModuleNotFoundError\u001b[0m: No module named 'pandas'"
     ]
    }
   ],
   "source": [
    "# Combine together the following datasets: \n",
    "# sign_to_street_side_mapping.csv, signalisation_stationnement_RPA_description.csv, simplified_gbdouble.json, signalisation_stationnement.geojson\n",
    "\n",
    "%run combine_datasets.py"
   ]
  },
  {
   "cell_type": "code",
   "execution_count": 4,
   "metadata": {},
   "outputs": [
    {
     "ename": "ModuleNotFoundError",
     "evalue": "No module named 'pandas'",
     "output_type": "error",
     "traceback": [
      "\u001b[1;31m---------------------------------------------------------------------------\u001b[0m",
      "\u001b[1;31mModuleNotFoundError\u001b[0m                       Traceback (most recent call last)",
      "File \u001b[1;32m~\\Desktop\\backup\\Python Projects\\Quebec-Parking-App\\Code\\find_sign_pairs.py:7\u001b[0m\n\u001b[0;32m      1\u001b[0m \u001b[38;5;124;03m\"\"\" Determine each sign's boundaries on a streetside. And append data to combine_dataset.py ###\u001b[39;00m\n\u001b[0;32m      2\u001b[0m \n\u001b[0;32m      3\u001b[0m \u001b[38;5;124;03mFor each sign_id, identify each signs pair. And append to combine_datasets.CSV \u001b[39;00m\n\u001b[0;32m      4\u001b[0m \u001b[38;5;124;03mEnglish Inputs: streetside_ID + sign id + sign coordinate + sign direction on streetside + boundary coordinate (paired sign or street boundary)\u001b[39;00m\n\u001b[0;32m      5\u001b[0m \u001b[38;5;124;03m\"\"\"\u001b[39;00m\n\u001b[1;32m----> 7\u001b[0m \u001b[38;5;28;01mimport\u001b[39;00m \u001b[38;5;21;01mpandas\u001b[39;00m \u001b[38;5;28;01mas\u001b[39;00m \u001b[38;5;21;01mpd\u001b[39;00m\n\u001b[0;32m      8\u001b[0m \u001b[38;5;28;01mimport\u001b[39;00m \u001b[38;5;21;01mjson\u001b[39;00m\n\u001b[0;32m      9\u001b[0m \u001b[38;5;28;01mimport\u001b[39;00m \u001b[38;5;21;01mtime\u001b[39;00m\n",
      "\u001b[1;31mModuleNotFoundError\u001b[0m: No module named 'pandas'"
     ]
    }
   ],
   "source": [
    "# Find sign pairs and append results to combine_datasets.csv (Runs for 11mins)\n",
    "%run find_sign_pairs.py"
   ]
  },
  {
   "cell_type": "code",
   "execution_count": 5,
   "metadata": {},
   "outputs": [
    {
     "ename": "ModuleNotFoundError",
     "evalue": "No module named 'pandas'",
     "output_type": "error",
     "traceback": [
      "\u001b[1;31m---------------------------------------------------------------------------\u001b[0m",
      "\u001b[1;31mModuleNotFoundError\u001b[0m                       Traceback (most recent call last)",
      "File \u001b[1;32m~\\Desktop\\backup\\Python Projects\\Quebec-Parking-App\\Code\\identify_active_signs_in_different_scenarios.py:14\u001b[0m\n\u001b[0;32m      1\u001b[0m \u001b[38;5;124;03m\"\"\"\u001b[39;00m\n\u001b[0;32m      2\u001b[0m \u001b[38;5;124;03m# Logic\u001b[39;00m\n\u001b[0;32m      3\u001b[0m \u001b[38;5;124;03mGiven user inputs {scenario_date, scenario_time}\u001b[39;00m\n\u001b[1;32m   (...)\u001b[0m\n\u001b[0;32m     10\u001b[0m \u001b[38;5;124;03m# Add output data into scenarios_sign_active.csv\u001b[39;00m\n\u001b[0;32m     11\u001b[0m \u001b[38;5;124;03m\"\"\"\u001b[39;00m\n\u001b[1;32m---> 14\u001b[0m \u001b[38;5;28;01mimport\u001b[39;00m \u001b[38;5;21;01mpandas\u001b[39;00m \u001b[38;5;28;01mas\u001b[39;00m \u001b[38;5;21;01mpd\u001b[39;00m\n\u001b[0;32m     15\u001b[0m \u001b[38;5;28;01mfrom\u001b[39;00m \u001b[38;5;21;01mdatetime\u001b[39;00m \u001b[38;5;28;01mimport\u001b[39;00m datetime, timedelta, time\n\u001b[0;32m     17\u001b[0m \u001b[38;5;28;01mfrom\u001b[39;00m \u001b[38;5;21;01mpathlib\u001b[39;00m \u001b[38;5;28;01mimport\u001b[39;00m Path\n",
      "\u001b[1;31mModuleNotFoundError\u001b[0m: No module named 'pandas'"
     ]
    }
   ],
   "source": [
    "# Identify active signs based on various user input scenarios.\n",
    "# Generate a file containing results for each scenario, with format \"scenarios_sign_active_2024-01-04_00-00\"\n",
    "# Takes 5 hours to process.\n",
    "%run identify_active_signs_in_different_scenarios.py"
   ]
  },
  {
   "cell_type": "code",
   "execution_count": 6,
   "metadata": {},
   "outputs": [
    {
     "ename": "ModuleNotFoundError",
     "evalue": "No module named 'pandas'",
     "output_type": "error",
     "traceback": [
      "\u001b[1;31m---------------------------------------------------------------------------\u001b[0m",
      "\u001b[1;31mModuleNotFoundError\u001b[0m                       Traceback (most recent call last)",
      "File \u001b[1;32m~\\Desktop\\backup\\Python Projects\\Quebec-Parking-App\\Code\\identify_regions_legal_to_park.py:14\u001b[0m\n\u001b[0;32m      1\u001b[0m \u001b[38;5;124;03m\"\"\"\u001b[39;00m\n\u001b[0;32m      2\u001b[0m \u001b[38;5;124;03mFind regions that a vehicle can have legal parking given a scenario (time, date).\u001b[39;00m\n\u001b[0;32m      3\u001b[0m \u001b[38;5;124;03m- Generate cases and the respective actions based on where each sign restricts on a street.\u001b[39;00m\n\u001b[1;32m   (...)\u001b[0m\n\u001b[0;32m     11\u001b[0m \n\u001b[0;32m     12\u001b[0m \u001b[38;5;124;03m\"\"\"\u001b[39;00m\n\u001b[1;32m---> 14\u001b[0m \u001b[38;5;28;01mimport\u001b[39;00m \u001b[38;5;21;01mpandas\u001b[39;00m \u001b[38;5;28;01mas\u001b[39;00m \u001b[38;5;21;01mpd\u001b[39;00m\n\u001b[0;32m     15\u001b[0m \u001b[38;5;28;01mimport\u001b[39;00m \u001b[38;5;21;01mast\u001b[39;00m\n\u001b[0;32m     16\u001b[0m \u001b[38;5;28;01mfrom\u001b[39;00m \u001b[38;5;21;01mcollections\u001b[39;00m \u001b[38;5;28;01mimport\u001b[39;00m defaultdict\n",
      "\u001b[1;31mModuleNotFoundError\u001b[0m: No module named 'pandas'"
     ]
    }
   ],
   "source": [
    "# Identify regions legal to park for each scenario, using scenarios_sign_active.csv + combined_datasets.csv . \n",
    "# Append output array of coordinates (of where it is legal to park for each specific scenario) into a unique file. Called {scenario_time}_{scenario_date}_map.txt.\n",
    "%run identify_regions_legal_to_park.py"
   ]
  },
  {
   "cell_type": "code",
   "execution_count": 7,
   "metadata": {},
   "outputs": [
    {
     "ename": "ModuleNotFoundError",
     "evalue": "No module named 'pandas'",
     "output_type": "error",
     "traceback": [
      "\u001b[1;31m---------------------------------------------------------------------------\u001b[0m",
      "\u001b[1;31mModuleNotFoundError\u001b[0m                       Traceback (most recent call last)",
      "File \u001b[1;32m~\\Desktop\\backup\\Python Projects\\Quebec-Parking-App\\Code\\user_can_park_where.py:19\u001b[0m\n\u001b[0;32m      1\u001b[0m \u001b[38;5;124;03m\"\"\"\u001b[39;00m\n\u001b[0;32m      2\u001b[0m \u001b[38;5;124;03m(1) Given user input data, which includes the following,\u001b[39;00m\n\u001b[0;32m      3\u001b[0m \u001b[38;5;124;03mInputs: \u001b[39;00m\n\u001b[1;32m   (...)\u001b[0m\n\u001b[0;32m     13\u001b[0m \n\u001b[0;32m     14\u001b[0m \u001b[38;5;124;03m\"\"\"\u001b[39;00m\n\u001b[0;32m     16\u001b[0m \u001b[38;5;66;03m# Given user inputs, generate geojson that can be used to map where user can park and not park\u001b[39;00m\n\u001b[0;32m     17\u001b[0m \u001b[38;5;66;03m########################\u001b[39;00m\n\u001b[1;32m---> 19\u001b[0m \u001b[38;5;28;01mimport\u001b[39;00m \u001b[38;5;21;01mpandas\u001b[39;00m \u001b[38;5;28;01mas\u001b[39;00m \u001b[38;5;21;01mpd\u001b[39;00m\n\u001b[0;32m     20\u001b[0m \u001b[38;5;28;01mimport\u001b[39;00m \u001b[38;5;21;01mjson\u001b[39;00m\n\u001b[0;32m     21\u001b[0m \u001b[38;5;28;01mimport\u001b[39;00m \u001b[38;5;21;01mtime\u001b[39;00m\n",
      "\u001b[1;31mModuleNotFoundError\u001b[0m: No module named 'pandas'"
     ]
    }
   ],
   "source": [
    "# Extract user inputs, identify .npy file it references to. Then generate a map of where user can park. \n",
    "%run user_can_park_where.py"
   ]
  }
 ],
 "metadata": {
  "kernelspec": {
   "display_name": "Python 3",
   "language": "python",
   "name": "python3"
  },
  "language_info": {
   "codemirror_mode": {
    "name": "ipython",
    "version": 3
   },
   "file_extension": ".py",
   "mimetype": "text/x-python",
   "name": "python",
   "nbconvert_exporter": "python",
   "pygments_lexer": "ipython3",
   "version": "3.11.9"
  }
 },
 "nbformat": 4,
 "nbformat_minor": 2
}
