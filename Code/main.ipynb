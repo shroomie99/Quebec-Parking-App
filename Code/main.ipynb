{
 "cells": [
  {
   "cell_type": "code",
   "execution_count": null,
   "metadata": {},
   "outputs": [],
   "source": [
    "# Given 'gbdouble.json' + 'signalisation_stationnement.geojson' + 'signalisation_stationnement.csv'\n",
    "\n",
    "# Eliminates non-needed fields from datasets\n",
    "%run simplify_gbdouble.json.py\n",
    "%run simplify_signalisation_stationnement.geojson.py\n",
    "%run simplify_signalisation_stationnement.csv.py\n",
    "\n",
    "# Updates latitude and longitude coordinates\n",
    "%run update_coordinates_in_simplified_signalisation_stationnment.csv.py\n",
    "\n",
    "# Extract sign rules into signalisation_stationnement_RPA_description.csv\n",
    "%run sign_description_RPA_parser.py\n",
    "\n",
    "# Apply PANNOUCEAU signs to the parent sign.\n",
    "#TODO: LATER"
   ]
  },
  {
   "cell_type": "code",
   "execution_count": null,
   "metadata": {},
   "outputs": [],
   "source": [
    "# Generate a dataset that maps sign id to streetside id # (Runs for 90mins)\n",
    "%run map_sign_streetside.py"
   ]
  },
  {
   "cell_type": "code",
   "execution_count": 2,
   "metadata": {},
   "outputs": [
    {
     "name": "stdout",
     "output_type": "stream",
     "text": [
      "Merged CSV data has been saved\n",
      "Columns names replaced in CSV\n",
      "Coordinates replaced in CSV\n",
      "CSV data has been saved to combined_datasets.csv\n"
     ]
    }
   ],
   "source": [
    "# Combine together the following datasets: \n",
    "# sign_to_street_side_mapping.csv, signalisation_stationnement_RPA_description.csv, simplified_gbdouble.json, signalisation_stationnement.geojson\n",
    "\n",
    "%run combine_datasets.py"
   ]
  },
  {
   "cell_type": "code",
   "execution_count": 3,
   "metadata": {},
   "outputs": [
    {
     "name": "stdout",
     "output_type": "stream",
     "text": [
      "Updated combined_datasets.csv with sign pairs\n"
     ]
    }
   ],
   "source": [
    "# Find sign pairs and append results to combine_datasets.csv (Runs for 11mins)\n",
    "%run find_sign_pairs.py"
   ]
  },
  {
   "cell_type": "code",
   "execution_count": null,
   "metadata": {},
   "outputs": [],
   "source": [
    "# Identify active signs based on various user input scenarios.\n",
    "# Generate a file containing results for each scenario, with format \"scenarios_sign_active_2024-01-04_00-00\"\n",
    "# Takes 5 hours to process.\n",
    "%run identify_active_signs_in_different_scenarios.py"
   ]
  },
  {
   "cell_type": "code",
   "execution_count": 6,
   "metadata": {},
   "outputs": [
    {
     "name": "stdout",
     "output_type": "stream",
     "text": [
      "Generated file for a scenario with the list of legal parking regions\n"
     ]
    }
   ],
   "source": [
    "# Identify regions legal to park for each scenario, using scenarios_sign_active.csv + combined_datasets.csv . \n",
    "# Append output array of coordinates (of where it is legal to park for each specific scenario) into a unique file. Called {scenario_time}_{scenario_date}_map.txt.\n",
    "%run identify_regions_legal_to_park.py"
   ]
  },
  {
   "cell_type": "code",
   "execution_count": 2,
   "metadata": {},
   "outputs": [
    {
     "name": "stdout",
     "output_type": "stream",
     "text": [
      "2024-09-04\n",
      "18-00\n",
      "C:\\Users\\Benjamin\\Desktop\\Python Projects\\Quebec Parking App\\Datasets\\maps\\map_2024-09-04__18-00.txt\n",
      "Map generated\n"
     ]
    }
   ],
   "source": [
    "# Extract user inputs, identify .npy file it references to. Then generate a map of where user can park. \n",
    "%run user_can_park_where.py"
   ]
  }
 ],
 "metadata": {
  "kernelspec": {
   "display_name": "Python 3",
   "language": "python",
   "name": "python3"
  },
  "language_info": {
   "codemirror_mode": {
    "name": "ipython",
    "version": 3
   },
   "file_extension": ".py",
   "mimetype": "text/x-python",
   "name": "python",
   "nbconvert_exporter": "python",
   "pygments_lexer": "ipython3",
   "version": "3.11.9"
  }
 },
 "nbformat": 4,
 "nbformat_minor": 2
}
